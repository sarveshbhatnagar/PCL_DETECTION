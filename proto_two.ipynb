{
 "cells": [
  {
   "cell_type": "code",
   "execution_count": 1,
   "metadata": {},
   "outputs": [],
   "source": [
    "from dont_patronize_me import DontPatronizeMe\n",
    "\n",
    "# Feature\n",
    "import feature.basicFeatures as bf\n",
    "import feature.makeWordVector as mwv\n",
    "\n",
    "# Preprocessing\n",
    "import preprocessing.basicPreProcessing as bp\n",
    "\n",
    "# Model\n",
    "import models.deepModel as dm\n",
    "\n",
    "# Misc for model training.\n",
    "from tensorflow import keras\n",
    "import numpy as np\n",
    "from imblearn.under_sampling import RandomUnderSampler\n",
    "from imblearn.over_sampling import RandomOverSampler\n",
    "from sklearn.model_selection import train_test_split\n",
    "import contractions"
   ]
  },
  {
   "cell_type": "code",
   "execution_count": 2,
   "metadata": {},
   "outputs": [],
   "source": [
    "from sklearn.metrics import accuracy_score\n",
    "from sklearn.metrics import precision_score\n",
    "from sklearn.metrics import recall_score\n"
   ]
  },
  {
   "cell_type": "code",
   "execution_count": 3,
   "metadata": {},
   "outputs": [],
   "source": [
    "def ready_data(X, y):\n",
    "    X = np.array(X)\n",
    "    X = X.reshape(-1, 1)\n",
    "    x_rus = X\n",
    "    y_rus = y\n",
    "    x_rus = [item[0] for item in x_rus]\n",
    "    x_rus = np.array(x_rus).astype(np.float32)\n",
    "    return x_rus, y_rus\n",
    "    \n",
    "def contract_words(text):\n",
    "    \"\"\"\n",
    "    Removes Contractations from text. i.e. are'nt -> are not\n",
    "    \"\"\"\n",
    "    return contractions.fix(text)\n",
    "\n",
    "\n",
    "def preprocess_text(text):\n",
    "    \"\"\"\n",
    "    Should return a list of words\n",
    "    \"\"\"\n",
    "    text = str(text)\n",
    "    text = contract_words(text)\n",
    "    text = text.lower()\n",
    "    text = text.replace('\"', \"\").replace(\n",
    "        \",\", \"\").replace(\"'\", \"\")\n",
    "    return text.split()"
   ]
  },
  {
   "cell_type": "markdown",
   "metadata": {},
   "source": [
    "# Starts Here"
   ]
  },
  {
   "cell_type": "code",
   "execution_count": 4,
   "metadata": {},
   "outputs": [],
   "source": [
    "dpm = DontPatronizeMe('dataset', 'dontpatronizeme_pcl.tsv')\n",
    "dpm.load_task1()\n",
    "data = dpm.train_task1_df\n",
    "process = bp.BasicPreProcessing()\n",
    "data['text_split'] = data['text'].apply(preprocess_text)"
   ]
  },
  {
   "cell_type": "code",
   "execution_count": 5,
   "metadata": {},
   "outputs": [],
   "source": [
    "def get_text_feature(text_tokens,n=[3,5,7]):\n",
    "    nt = []\n",
    "    for i in range(len(text_tokens)-n[0]):\n",
    "        for j in n:\n",
    "            nt.append(text_tokens[i:i+j])\n",
    "\n",
    "    return nt"
   ]
  },
  {
   "cell_type": "code",
   "execution_count": 6,
   "metadata": {},
   "outputs": [],
   "source": [
    "ttok = data['text_split'][0]"
   ]
  },
  {
   "cell_type": "code",
   "execution_count": 7,
   "metadata": {},
   "outputs": [],
   "source": [
    "data[\"text_feature\"] = data['text_split'].apply(get_text_feature)"
   ]
  },
  {
   "cell_type": "code",
   "execution_count": 8,
   "metadata": {},
   "outputs": [],
   "source": [
    "wv = mwv.Word2VecModelTrainer().load_trained(\"word2vec.wordvectors\")"
   ]
  },
  {
   "cell_type": "code",
   "execution_count": 9,
   "metadata": {},
   "outputs": [],
   "source": [
    "basic_features = bf.BasicFeatures()\n",
    "data['embeddings'] = data['text_split'].apply(\n",
    "        basic_features.add_vectors, wv=wv)"
   ]
  },
  {
   "cell_type": "code",
   "execution_count": 13,
   "metadata": {},
   "outputs": [],
   "source": [
    "data[\"embeddings_feature\"] = data['text_feature'].apply(basic_features.add_vectors_multiple, wv=wv)"
   ]
  },
  {
   "cell_type": "code",
   "execution_count": 20,
   "metadata": {},
   "outputs": [
    {
     "data": {
      "text/plain": [
       "(10469,)"
      ]
     },
     "execution_count": 20,
     "metadata": {},
     "output_type": "execute_result"
    }
   ],
   "source": [
    "data[\"embeddings\"].shape"
   ]
  },
  {
   "cell_type": "code",
   "execution_count": 23,
   "metadata": {},
   "outputs": [
    {
     "name": "stderr",
     "output_type": "stream",
     "text": [
      "2022-01-07 18:38:50.979349: I tensorflow/core/platform/cpu_feature_guard.cc:142] This TensorFlow binary is optimized with oneAPI Deep Neural Network Library (oneDNN)to use the following CPU instructions in performance-critical operations:  AVX2 FMA\n",
      "To enable them in other operations, rebuild TensorFlow with the appropriate compiler flags.\n",
      "2022-01-07 18:38:51.016573: I tensorflow/compiler/xla/service/service.cc:168] XLA service 0x7fa329a54d80 initialized for platform Host (this does not guarantee that XLA will be used). Devices:\n",
      "2022-01-07 18:38:51.016591: I tensorflow/compiler/xla/service/service.cc:176]   StreamExecutor device (0): Host, Default Version\n"
     ]
    },
    {
     "name": "stdout",
     "output_type": "stream",
     "text": [
      "Training the model...\n",
      "Epoch 1/150\n",
      "237/237 [==============================] - 0s 2ms/step - loss: 0.7322 - sparse_categorical_accuracy: 0.5983\n",
      "Epoch 2/150\n",
      "237/237 [==============================] - 1s 3ms/step - loss: 0.6077 - sparse_categorical_accuracy: 0.6746\n",
      "Epoch 3/150\n",
      "237/237 [==============================] - 1s 3ms/step - loss: 0.5743 - sparse_categorical_accuracy: 0.7063\n",
      "Epoch 4/150\n",
      "237/237 [==============================] - 1s 3ms/step - loss: 0.5515 - sparse_categorical_accuracy: 0.7194\n",
      "Epoch 5/150\n",
      "237/237 [==============================] - 1s 3ms/step - loss: 0.5286 - sparse_categorical_accuracy: 0.7357\n",
      "Epoch 6/150\n",
      "237/237 [==============================] - 1s 3ms/step - loss: 0.5059 - sparse_categorical_accuracy: 0.7478\n",
      "Epoch 7/150\n",
      "237/237 [==============================] - 1s 3ms/step - loss: 0.4891 - sparse_categorical_accuracy: 0.7619\n",
      "Epoch 8/150\n",
      "237/237 [==============================] - 1s 4ms/step - loss: 0.4685 - sparse_categorical_accuracy: 0.7744\n",
      "Epoch 9/150\n",
      "237/237 [==============================] - 1s 2ms/step - loss: 0.4570 - sparse_categorical_accuracy: 0.7829\n",
      "Epoch 10/150\n",
      "237/237 [==============================] - 1s 3ms/step - loss: 0.4482 - sparse_categorical_accuracy: 0.7893\n",
      "Epoch 11/150\n",
      "237/237 [==============================] - 1s 3ms/step - loss: 0.4282 - sparse_categorical_accuracy: 0.7992\n",
      "Epoch 12/150\n",
      "237/237 [==============================] - 1s 3ms/step - loss: 0.4210 - sparse_categorical_accuracy: 0.8042\n",
      "Epoch 13/150\n",
      "237/237 [==============================] - 1s 3ms/step - loss: 0.4131 - sparse_categorical_accuracy: 0.8095\n",
      "Epoch 14/150\n",
      "237/237 [==============================] - 1s 2ms/step - loss: 0.4040 - sparse_categorical_accuracy: 0.8116\n",
      "Epoch 15/150\n",
      "237/237 [==============================] - 1s 2ms/step - loss: 0.3881 - sparse_categorical_accuracy: 0.8215\n",
      "Epoch 16/150\n",
      "237/237 [==============================] - 1s 3ms/step - loss: 0.3854 - sparse_categorical_accuracy: 0.8257\n",
      "Epoch 17/150\n",
      "237/237 [==============================] - 1s 3ms/step - loss: 0.3764 - sparse_categorical_accuracy: 0.8288\n",
      "Epoch 18/150\n",
      "237/237 [==============================] - 1s 2ms/step - loss: 0.3714 - sparse_categorical_accuracy: 0.8326\n",
      "Epoch 19/150\n",
      "237/237 [==============================] - 1s 2ms/step - loss: 0.3602 - sparse_categorical_accuracy: 0.8407\n",
      "Epoch 20/150\n",
      "237/237 [==============================] - 1s 2ms/step - loss: 0.3553 - sparse_categorical_accuracy: 0.8442\n",
      "Epoch 21/150\n",
      "237/237 [==============================] - 1s 3ms/step - loss: 0.3429 - sparse_categorical_accuracy: 0.8509\n",
      "Epoch 22/150\n",
      "237/237 [==============================] - 1s 2ms/step - loss: 0.3459 - sparse_categorical_accuracy: 0.8503\n",
      "Epoch 23/150\n",
      "237/237 [==============================] - 1s 3ms/step - loss: 0.3387 - sparse_categorical_accuracy: 0.8509\n",
      "Epoch 24/150\n",
      "237/237 [==============================] - 1s 3ms/step - loss: 0.3263 - sparse_categorical_accuracy: 0.8615\n",
      "Epoch 25/150\n",
      "237/237 [==============================] - 1s 3ms/step - loss: 0.3201 - sparse_categorical_accuracy: 0.8641\n",
      "Epoch 26/150\n",
      "237/237 [==============================] - 1s 3ms/step - loss: 0.3186 - sparse_categorical_accuracy: 0.8666\n",
      "Epoch 27/150\n",
      "237/237 [==============================] - 1s 2ms/step - loss: 0.3100 - sparse_categorical_accuracy: 0.8697\n",
      "Epoch 28/150\n",
      "237/237 [==============================] - 1s 2ms/step - loss: 0.3086 - sparse_categorical_accuracy: 0.8687\n",
      "Epoch 29/150\n",
      "237/237 [==============================] - 1s 2ms/step - loss: 0.3033 - sparse_categorical_accuracy: 0.8698\n",
      "Epoch 30/150\n",
      "237/237 [==============================] - 1s 3ms/step - loss: 0.3036 - sparse_categorical_accuracy: 0.8733\n",
      "Epoch 31/150\n",
      "237/237 [==============================] - 1s 3ms/step - loss: 0.2929 - sparse_categorical_accuracy: 0.8798\n",
      "Epoch 32/150\n",
      "237/237 [==============================] - 1s 4ms/step - loss: 0.2948 - sparse_categorical_accuracy: 0.8765\n",
      "Epoch 33/150\n",
      "237/237 [==============================] - 1s 5ms/step - loss: 0.2909 - sparse_categorical_accuracy: 0.8782\n",
      "Epoch 34/150\n",
      "237/237 [==============================] - 1s 3ms/step - loss: 0.2856 - sparse_categorical_accuracy: 0.8821\n",
      "Epoch 35/150\n",
      "237/237 [==============================] - 1s 3ms/step - loss: 0.2803 - sparse_categorical_accuracy: 0.8842\n",
      "Epoch 36/150\n",
      "237/237 [==============================] - 1s 3ms/step - loss: 0.2745 - sparse_categorical_accuracy: 0.8883\n",
      "Epoch 37/150\n",
      "237/237 [==============================] - 1s 3ms/step - loss: 0.2717 - sparse_categorical_accuracy: 0.8905\n",
      "Epoch 38/150\n",
      "237/237 [==============================] - 1s 3ms/step - loss: 0.2663 - sparse_categorical_accuracy: 0.8895\n",
      "Epoch 39/150\n",
      "237/237 [==============================] - 1s 2ms/step - loss: 0.2727 - sparse_categorical_accuracy: 0.8909\n",
      "Epoch 40/150\n",
      "237/237 [==============================] - 1s 2ms/step - loss: 0.2660 - sparse_categorical_accuracy: 0.8901\n",
      "Epoch 41/150\n",
      "237/237 [==============================] - 1s 2ms/step - loss: 0.2594 - sparse_categorical_accuracy: 0.8972\n",
      "Epoch 42/150\n",
      "237/237 [==============================] - 1s 2ms/step - loss: 0.2601 - sparse_categorical_accuracy: 0.8943\n",
      "Epoch 43/150\n",
      "237/237 [==============================] - 1s 2ms/step - loss: 0.2582 - sparse_categorical_accuracy: 0.8979\n",
      "Epoch 44/150\n",
      "237/237 [==============================] - 1s 3ms/step - loss: 0.2516 - sparse_categorical_accuracy: 0.8978\n",
      "Epoch 45/150\n",
      "237/237 [==============================] - 0s 2ms/step - loss: 0.2470 - sparse_categorical_accuracy: 0.9022\n",
      "Epoch 46/150\n",
      "237/237 [==============================] - 1s 3ms/step - loss: 0.2517 - sparse_categorical_accuracy: 0.9004\n",
      "Epoch 47/150\n",
      "237/237 [==============================] - 1s 3ms/step - loss: 0.2443 - sparse_categorical_accuracy: 0.9028\n",
      "Epoch 48/150\n",
      "237/237 [==============================] - 1s 3ms/step - loss: 0.2416 - sparse_categorical_accuracy: 0.9034\n",
      "Epoch 49/150\n",
      "237/237 [==============================] - 1s 3ms/step - loss: 0.2408 - sparse_categorical_accuracy: 0.9033\n",
      "Epoch 50/150\n",
      "237/237 [==============================] - 1s 2ms/step - loss: 0.2420 - sparse_categorical_accuracy: 0.9036\n",
      "Epoch 51/150\n",
      "237/237 [==============================] - 1s 2ms/step - loss: 0.2382 - sparse_categorical_accuracy: 0.9056\n",
      "Epoch 52/150\n",
      "237/237 [==============================] - 1s 2ms/step - loss: 0.2406 - sparse_categorical_accuracy: 0.9034\n",
      "Epoch 53/150\n",
      "237/237 [==============================] - 1s 3ms/step - loss: 0.2393 - sparse_categorical_accuracy: 0.9041\n",
      "Epoch 54/150\n",
      "237/237 [==============================] - 1s 3ms/step - loss: 0.2344 - sparse_categorical_accuracy: 0.9065\n",
      "Epoch 55/150\n",
      "237/237 [==============================] - 1s 3ms/step - loss: 0.2386 - sparse_categorical_accuracy: 0.9065\n",
      "Epoch 56/150\n",
      "237/237 [==============================] - 1s 3ms/step - loss: 0.2255 - sparse_categorical_accuracy: 0.9110\n",
      "Epoch 57/150\n",
      "237/237 [==============================] - 1s 3ms/step - loss: 0.2295 - sparse_categorical_accuracy: 0.9100\n",
      "Epoch 58/150\n",
      "237/237 [==============================] - 1s 3ms/step - loss: 0.2266 - sparse_categorical_accuracy: 0.9098\n",
      "Epoch 59/150\n",
      "237/237 [==============================] - 1s 3ms/step - loss: 0.2282 - sparse_categorical_accuracy: 0.9111\n",
      "Epoch 60/150\n",
      "237/237 [==============================] - 1s 3ms/step - loss: 0.2219 - sparse_categorical_accuracy: 0.9125\n",
      "Epoch 61/150\n",
      "237/237 [==============================] - 1s 3ms/step - loss: 0.2297 - sparse_categorical_accuracy: 0.9106\n",
      "Epoch 62/150\n",
      "237/237 [==============================] - 1s 3ms/step - loss: 0.2217 - sparse_categorical_accuracy: 0.9118\n",
      "Epoch 63/150\n",
      "237/237 [==============================] - 1s 2ms/step - loss: 0.2238 - sparse_categorical_accuracy: 0.9131\n",
      "Epoch 64/150\n",
      "237/237 [==============================] - 1s 3ms/step - loss: 0.2139 - sparse_categorical_accuracy: 0.9156\n",
      "Epoch 65/150\n",
      "237/237 [==============================] - 1s 3ms/step - loss: 0.2124 - sparse_categorical_accuracy: 0.9166\n",
      "Epoch 66/150\n",
      "237/237 [==============================] - 1s 3ms/step - loss: 0.2130 - sparse_categorical_accuracy: 0.9185\n",
      "Epoch 67/150\n",
      "237/237 [==============================] - 1s 3ms/step - loss: 0.2088 - sparse_categorical_accuracy: 0.9197\n",
      "Epoch 68/150\n",
      "237/237 [==============================] - 1s 3ms/step - loss: 0.2154 - sparse_categorical_accuracy: 0.9171\n",
      "Epoch 69/150\n",
      "237/237 [==============================] - 1s 3ms/step - loss: 0.2096 - sparse_categorical_accuracy: 0.9165\n",
      "Epoch 70/150\n",
      "237/237 [==============================] - 1s 3ms/step - loss: 0.2126 - sparse_categorical_accuracy: 0.9168\n",
      "Epoch 71/150\n",
      "237/237 [==============================] - 1s 3ms/step - loss: 0.2070 - sparse_categorical_accuracy: 0.9198\n",
      "Epoch 72/150\n",
      "237/237 [==============================] - 1s 3ms/step - loss: 0.2076 - sparse_categorical_accuracy: 0.9226\n",
      "Epoch 73/150\n",
      "237/237 [==============================] - 1s 4ms/step - loss: 0.2055 - sparse_categorical_accuracy: 0.9222\n",
      "Epoch 74/150\n",
      "237/237 [==============================] - 1s 3ms/step - loss: 0.2041 - sparse_categorical_accuracy: 0.9218\n",
      "Epoch 75/150\n",
      "  1/237 [..............................] - ETA: 0s - loss: 0.1720 - sparse_categorical_accuracy: 0.9375"
     ]
    },
    {
     "ename": "KeyboardInterrupt",
     "evalue": "",
     "output_type": "error",
     "traceback": [
      "\u001b[0;31m---------------------------------------------------------------------------\u001b[0m",
      "\u001b[0;31mKeyboardInterrupt\u001b[0m                         Traceback (most recent call last)",
      "\u001b[0;32m/var/folders/1g/2g527l3s2nl84bfldbl29t2m0000gn/T/ipykernel_90492/3605752819.py\u001b[0m in \u001b[0;36m<module>\u001b[0;34m\u001b[0m\n\u001b[1;32m     55\u001b[0m     \u001b[0;31m# Train the model.\u001b[0m\u001b[0;34m\u001b[0m\u001b[0;34m\u001b[0m\u001b[0;34m\u001b[0m\u001b[0m\n\u001b[1;32m     56\u001b[0m     \u001b[0mprint\u001b[0m\u001b[0;34m(\u001b[0m\u001b[0;34m\"Training the model...\"\u001b[0m\u001b[0;34m)\u001b[0m\u001b[0;34m\u001b[0m\u001b[0;34m\u001b[0m\u001b[0m\n\u001b[0;32m---> 57\u001b[0;31m     \u001b[0mhistory\u001b[0m \u001b[0;34m=\u001b[0m \u001b[0mmodel\u001b[0m\u001b[0;34m.\u001b[0m\u001b[0mfit\u001b[0m\u001b[0;34m(\u001b[0m\u001b[0mx_rus\u001b[0m\u001b[0;34m,\u001b[0m \u001b[0my_rus\u001b[0m\u001b[0;34m,\u001b[0m \u001b[0mbatch_size\u001b[0m\u001b[0;34m=\u001b[0m\u001b[0;36m64\u001b[0m\u001b[0;34m,\u001b[0m \u001b[0mepochs\u001b[0m\u001b[0;34m=\u001b[0m\u001b[0;36m150\u001b[0m\u001b[0;34m)\u001b[0m\u001b[0;34m\u001b[0m\u001b[0;34m\u001b[0m\u001b[0m\n\u001b[0m\u001b[1;32m     58\u001b[0m \u001b[0;34m\u001b[0m\u001b[0m\n\u001b[1;32m     59\u001b[0m     \u001b[0;31m# Prepare testing data.\u001b[0m\u001b[0;34m\u001b[0m\u001b[0;34m\u001b[0m\u001b[0;34m\u001b[0m\u001b[0m\n",
      "\u001b[0;32m~/.local/lib/python3.7/site-packages/tensorflow/python/keras/engine/training.py\u001b[0m in \u001b[0;36m_method_wrapper\u001b[0;34m(self, *args, **kwargs)\u001b[0m\n\u001b[1;32m    106\u001b[0m   \u001b[0;32mdef\u001b[0m \u001b[0m_method_wrapper\u001b[0m\u001b[0;34m(\u001b[0m\u001b[0mself\u001b[0m\u001b[0;34m,\u001b[0m \u001b[0;34m*\u001b[0m\u001b[0margs\u001b[0m\u001b[0;34m,\u001b[0m \u001b[0;34m**\u001b[0m\u001b[0mkwargs\u001b[0m\u001b[0;34m)\u001b[0m\u001b[0;34m:\u001b[0m\u001b[0;34m\u001b[0m\u001b[0;34m\u001b[0m\u001b[0m\n\u001b[1;32m    107\u001b[0m     \u001b[0;32mif\u001b[0m \u001b[0;32mnot\u001b[0m \u001b[0mself\u001b[0m\u001b[0;34m.\u001b[0m\u001b[0m_in_multi_worker_mode\u001b[0m\u001b[0;34m(\u001b[0m\u001b[0;34m)\u001b[0m\u001b[0;34m:\u001b[0m  \u001b[0;31m# pylint: disable=protected-access\u001b[0m\u001b[0;34m\u001b[0m\u001b[0;34m\u001b[0m\u001b[0m\n\u001b[0;32m--> 108\u001b[0;31m       \u001b[0;32mreturn\u001b[0m \u001b[0mmethod\u001b[0m\u001b[0;34m(\u001b[0m\u001b[0mself\u001b[0m\u001b[0;34m,\u001b[0m \u001b[0;34m*\u001b[0m\u001b[0margs\u001b[0m\u001b[0;34m,\u001b[0m \u001b[0;34m**\u001b[0m\u001b[0mkwargs\u001b[0m\u001b[0;34m)\u001b[0m\u001b[0;34m\u001b[0m\u001b[0;34m\u001b[0m\u001b[0m\n\u001b[0m\u001b[1;32m    109\u001b[0m \u001b[0;34m\u001b[0m\u001b[0m\n\u001b[1;32m    110\u001b[0m     \u001b[0;31m# Running inside `run_distribute_coordinator` already.\u001b[0m\u001b[0;34m\u001b[0m\u001b[0;34m\u001b[0m\u001b[0;34m\u001b[0m\u001b[0m\n",
      "\u001b[0;32m~/.local/lib/python3.7/site-packages/tensorflow/python/keras/engine/training.py\u001b[0m in \u001b[0;36mfit\u001b[0;34m(self, x, y, batch_size, epochs, verbose, callbacks, validation_split, validation_data, shuffle, class_weight, sample_weight, initial_epoch, steps_per_epoch, validation_steps, validation_batch_size, validation_freq, max_queue_size, workers, use_multiprocessing)\u001b[0m\n\u001b[1;32m   1096\u001b[0m                 batch_size=batch_size):\n\u001b[1;32m   1097\u001b[0m               \u001b[0mcallbacks\u001b[0m\u001b[0;34m.\u001b[0m\u001b[0mon_train_batch_begin\u001b[0m\u001b[0;34m(\u001b[0m\u001b[0mstep\u001b[0m\u001b[0;34m)\u001b[0m\u001b[0;34m\u001b[0m\u001b[0;34m\u001b[0m\u001b[0m\n\u001b[0;32m-> 1098\u001b[0;31m               \u001b[0mtmp_logs\u001b[0m \u001b[0;34m=\u001b[0m \u001b[0mtrain_function\u001b[0m\u001b[0;34m(\u001b[0m\u001b[0miterator\u001b[0m\u001b[0;34m)\u001b[0m\u001b[0;34m\u001b[0m\u001b[0;34m\u001b[0m\u001b[0m\n\u001b[0m\u001b[1;32m   1099\u001b[0m               \u001b[0;32mif\u001b[0m \u001b[0mdata_handler\u001b[0m\u001b[0;34m.\u001b[0m\u001b[0mshould_sync\u001b[0m\u001b[0;34m:\u001b[0m\u001b[0;34m\u001b[0m\u001b[0;34m\u001b[0m\u001b[0m\n\u001b[1;32m   1100\u001b[0m                 \u001b[0mcontext\u001b[0m\u001b[0;34m.\u001b[0m\u001b[0masync_wait\u001b[0m\u001b[0;34m(\u001b[0m\u001b[0;34m)\u001b[0m\u001b[0;34m\u001b[0m\u001b[0;34m\u001b[0m\u001b[0m\n",
      "\u001b[0;32m~/.local/lib/python3.7/site-packages/tensorflow/python/eager/def_function.py\u001b[0m in \u001b[0;36m__call__\u001b[0;34m(self, *args, **kwds)\u001b[0m\n\u001b[1;32m    778\u001b[0m       \u001b[0;32melse\u001b[0m\u001b[0;34m:\u001b[0m\u001b[0;34m\u001b[0m\u001b[0;34m\u001b[0m\u001b[0m\n\u001b[1;32m    779\u001b[0m         \u001b[0mcompiler\u001b[0m \u001b[0;34m=\u001b[0m \u001b[0;34m\"nonXla\"\u001b[0m\u001b[0;34m\u001b[0m\u001b[0;34m\u001b[0m\u001b[0m\n\u001b[0;32m--> 780\u001b[0;31m         \u001b[0mresult\u001b[0m \u001b[0;34m=\u001b[0m \u001b[0mself\u001b[0m\u001b[0;34m.\u001b[0m\u001b[0m_call\u001b[0m\u001b[0;34m(\u001b[0m\u001b[0;34m*\u001b[0m\u001b[0margs\u001b[0m\u001b[0;34m,\u001b[0m \u001b[0;34m**\u001b[0m\u001b[0mkwds\u001b[0m\u001b[0;34m)\u001b[0m\u001b[0;34m\u001b[0m\u001b[0;34m\u001b[0m\u001b[0m\n\u001b[0m\u001b[1;32m    781\u001b[0m \u001b[0;34m\u001b[0m\u001b[0m\n\u001b[1;32m    782\u001b[0m       \u001b[0mnew_tracing_count\u001b[0m \u001b[0;34m=\u001b[0m \u001b[0mself\u001b[0m\u001b[0;34m.\u001b[0m\u001b[0m_get_tracing_count\u001b[0m\u001b[0;34m(\u001b[0m\u001b[0;34m)\u001b[0m\u001b[0;34m\u001b[0m\u001b[0;34m\u001b[0m\u001b[0m\n",
      "\u001b[0;32m~/.local/lib/python3.7/site-packages/tensorflow/python/eager/def_function.py\u001b[0m in \u001b[0;36m_call\u001b[0;34m(self, *args, **kwds)\u001b[0m\n\u001b[1;32m    805\u001b[0m       \u001b[0;31m# In this case we have created variables on the first call, so we run the\u001b[0m\u001b[0;34m\u001b[0m\u001b[0;34m\u001b[0m\u001b[0;34m\u001b[0m\u001b[0m\n\u001b[1;32m    806\u001b[0m       \u001b[0;31m# defunned version which is guaranteed to never create variables.\u001b[0m\u001b[0;34m\u001b[0m\u001b[0;34m\u001b[0m\u001b[0;34m\u001b[0m\u001b[0m\n\u001b[0;32m--> 807\u001b[0;31m       \u001b[0;32mreturn\u001b[0m \u001b[0mself\u001b[0m\u001b[0;34m.\u001b[0m\u001b[0m_stateless_fn\u001b[0m\u001b[0;34m(\u001b[0m\u001b[0;34m*\u001b[0m\u001b[0margs\u001b[0m\u001b[0;34m,\u001b[0m \u001b[0;34m**\u001b[0m\u001b[0mkwds\u001b[0m\u001b[0;34m)\u001b[0m  \u001b[0;31m# pylint: disable=not-callable\u001b[0m\u001b[0;34m\u001b[0m\u001b[0;34m\u001b[0m\u001b[0m\n\u001b[0m\u001b[1;32m    808\u001b[0m     \u001b[0;32melif\u001b[0m \u001b[0mself\u001b[0m\u001b[0;34m.\u001b[0m\u001b[0m_stateful_fn\u001b[0m \u001b[0;32mis\u001b[0m \u001b[0;32mnot\u001b[0m \u001b[0;32mNone\u001b[0m\u001b[0;34m:\u001b[0m\u001b[0;34m\u001b[0m\u001b[0;34m\u001b[0m\u001b[0m\n\u001b[1;32m    809\u001b[0m       \u001b[0;31m# Release the lock early so that multiple threads can perform the call\u001b[0m\u001b[0;34m\u001b[0m\u001b[0;34m\u001b[0m\u001b[0;34m\u001b[0m\u001b[0m\n",
      "\u001b[0;32m~/.local/lib/python3.7/site-packages/tensorflow/python/eager/function.py\u001b[0m in \u001b[0;36m__call__\u001b[0;34m(self, *args, **kwargs)\u001b[0m\n\u001b[1;32m   2827\u001b[0m     \u001b[0;32mwith\u001b[0m \u001b[0mself\u001b[0m\u001b[0;34m.\u001b[0m\u001b[0m_lock\u001b[0m\u001b[0;34m:\u001b[0m\u001b[0;34m\u001b[0m\u001b[0;34m\u001b[0m\u001b[0m\n\u001b[1;32m   2828\u001b[0m       \u001b[0mgraph_function\u001b[0m\u001b[0;34m,\u001b[0m \u001b[0margs\u001b[0m\u001b[0;34m,\u001b[0m \u001b[0mkwargs\u001b[0m \u001b[0;34m=\u001b[0m \u001b[0mself\u001b[0m\u001b[0;34m.\u001b[0m\u001b[0m_maybe_define_function\u001b[0m\u001b[0;34m(\u001b[0m\u001b[0margs\u001b[0m\u001b[0;34m,\u001b[0m \u001b[0mkwargs\u001b[0m\u001b[0;34m)\u001b[0m\u001b[0;34m\u001b[0m\u001b[0;34m\u001b[0m\u001b[0m\n\u001b[0;32m-> 2829\u001b[0;31m     \u001b[0;32mreturn\u001b[0m \u001b[0mgraph_function\u001b[0m\u001b[0;34m.\u001b[0m\u001b[0m_filtered_call\u001b[0m\u001b[0;34m(\u001b[0m\u001b[0margs\u001b[0m\u001b[0;34m,\u001b[0m \u001b[0mkwargs\u001b[0m\u001b[0;34m)\u001b[0m  \u001b[0;31m# pylint: disable=protected-access\u001b[0m\u001b[0;34m\u001b[0m\u001b[0;34m\u001b[0m\u001b[0m\n\u001b[0m\u001b[1;32m   2830\u001b[0m \u001b[0;34m\u001b[0m\u001b[0m\n\u001b[1;32m   2831\u001b[0m   \u001b[0;34m@\u001b[0m\u001b[0mproperty\u001b[0m\u001b[0;34m\u001b[0m\u001b[0;34m\u001b[0m\u001b[0m\n",
      "\u001b[0;32m~/.local/lib/python3.7/site-packages/tensorflow/python/eager/function.py\u001b[0m in \u001b[0;36m_filtered_call\u001b[0;34m(self, args, kwargs, cancellation_manager)\u001b[0m\n\u001b[1;32m   1846\u001b[0m                            resource_variable_ops.BaseResourceVariable))],\n\u001b[1;32m   1847\u001b[0m         \u001b[0mcaptured_inputs\u001b[0m\u001b[0;34m=\u001b[0m\u001b[0mself\u001b[0m\u001b[0;34m.\u001b[0m\u001b[0mcaptured_inputs\u001b[0m\u001b[0;34m,\u001b[0m\u001b[0;34m\u001b[0m\u001b[0;34m\u001b[0m\u001b[0m\n\u001b[0;32m-> 1848\u001b[0;31m         cancellation_manager=cancellation_manager)\n\u001b[0m\u001b[1;32m   1849\u001b[0m \u001b[0;34m\u001b[0m\u001b[0m\n\u001b[1;32m   1850\u001b[0m   \u001b[0;32mdef\u001b[0m \u001b[0m_call_flat\u001b[0m\u001b[0;34m(\u001b[0m\u001b[0mself\u001b[0m\u001b[0;34m,\u001b[0m \u001b[0margs\u001b[0m\u001b[0;34m,\u001b[0m \u001b[0mcaptured_inputs\u001b[0m\u001b[0;34m,\u001b[0m \u001b[0mcancellation_manager\u001b[0m\u001b[0;34m=\u001b[0m\u001b[0;32mNone\u001b[0m\u001b[0;34m)\u001b[0m\u001b[0;34m:\u001b[0m\u001b[0;34m\u001b[0m\u001b[0;34m\u001b[0m\u001b[0m\n",
      "\u001b[0;32m~/.local/lib/python3.7/site-packages/tensorflow/python/eager/function.py\u001b[0m in \u001b[0;36m_call_flat\u001b[0;34m(self, args, captured_inputs, cancellation_manager)\u001b[0m\n\u001b[1;32m   1922\u001b[0m       \u001b[0;31m# No tape is watching; skip to running the function.\u001b[0m\u001b[0;34m\u001b[0m\u001b[0;34m\u001b[0m\u001b[0;34m\u001b[0m\u001b[0m\n\u001b[1;32m   1923\u001b[0m       return self._build_call_outputs(self._inference_function.call(\n\u001b[0;32m-> 1924\u001b[0;31m           ctx, args, cancellation_manager=cancellation_manager))\n\u001b[0m\u001b[1;32m   1925\u001b[0m     forward_backward = self._select_forward_and_backward_functions(\n\u001b[1;32m   1926\u001b[0m         \u001b[0margs\u001b[0m\u001b[0;34m,\u001b[0m\u001b[0;34m\u001b[0m\u001b[0;34m\u001b[0m\u001b[0m\n",
      "\u001b[0;32m~/.local/lib/python3.7/site-packages/tensorflow/python/eager/function.py\u001b[0m in \u001b[0;36mcall\u001b[0;34m(self, ctx, args, cancellation_manager)\u001b[0m\n\u001b[1;32m    548\u001b[0m               \u001b[0minputs\u001b[0m\u001b[0;34m=\u001b[0m\u001b[0margs\u001b[0m\u001b[0;34m,\u001b[0m\u001b[0;34m\u001b[0m\u001b[0;34m\u001b[0m\u001b[0m\n\u001b[1;32m    549\u001b[0m               \u001b[0mattrs\u001b[0m\u001b[0;34m=\u001b[0m\u001b[0mattrs\u001b[0m\u001b[0;34m,\u001b[0m\u001b[0;34m\u001b[0m\u001b[0;34m\u001b[0m\u001b[0m\n\u001b[0;32m--> 550\u001b[0;31m               ctx=ctx)\n\u001b[0m\u001b[1;32m    551\u001b[0m         \u001b[0;32melse\u001b[0m\u001b[0;34m:\u001b[0m\u001b[0;34m\u001b[0m\u001b[0;34m\u001b[0m\u001b[0m\n\u001b[1;32m    552\u001b[0m           outputs = execute.execute_with_cancellation(\n",
      "\u001b[0;32m~/.local/lib/python3.7/site-packages/tensorflow/python/eager/execute.py\u001b[0m in \u001b[0;36mquick_execute\u001b[0;34m(op_name, num_outputs, inputs, attrs, ctx, name)\u001b[0m\n\u001b[1;32m     58\u001b[0m     \u001b[0mctx\u001b[0m\u001b[0;34m.\u001b[0m\u001b[0mensure_initialized\u001b[0m\u001b[0;34m(\u001b[0m\u001b[0;34m)\u001b[0m\u001b[0;34m\u001b[0m\u001b[0;34m\u001b[0m\u001b[0m\n\u001b[1;32m     59\u001b[0m     tensors = pywrap_tfe.TFE_Py_Execute(ctx._handle, device_name, op_name,\n\u001b[0;32m---> 60\u001b[0;31m                                         inputs, attrs, num_outputs)\n\u001b[0m\u001b[1;32m     61\u001b[0m   \u001b[0;32mexcept\u001b[0m \u001b[0mcore\u001b[0m\u001b[0;34m.\u001b[0m\u001b[0m_NotOkStatusException\u001b[0m \u001b[0;32mas\u001b[0m \u001b[0me\u001b[0m\u001b[0;34m:\u001b[0m\u001b[0;34m\u001b[0m\u001b[0;34m\u001b[0m\u001b[0m\n\u001b[1;32m     62\u001b[0m     \u001b[0;32mif\u001b[0m \u001b[0mname\u001b[0m \u001b[0;32mis\u001b[0m \u001b[0;32mnot\u001b[0m \u001b[0;32mNone\u001b[0m\u001b[0;34m:\u001b[0m\u001b[0;34m\u001b[0m\u001b[0;34m\u001b[0m\u001b[0m\n",
      "\u001b[0;31mKeyboardInterrupt\u001b[0m: "
     ]
    }
   ],
   "source": [
    "# wv.most_similar(data[\"embeddings_feature\"][1])\n",
    "data[\"embeddings_feature\"].shape"
   ]
  },
  {
   "cell_type": "code",
   "execution_count": 17,
   "metadata": {},
   "outputs": [
    {
     "data": {
      "text/plain": [
       "[('glory', 0.783615231513977),\n",
       " ('cultures', 0.7813388109207153),\n",
       " ('suggesting', 0.7790683507919312),\n",
       " ('different', 0.7790452241897583),\n",
       " ('destination', 0.7770742177963257),\n",
       " ('hunger', 0.7682454586029053),\n",
       " ('minds', 0.7652076482772827),\n",
       " ('wider', 0.7584751844406128),\n",
       " ('minority', 0.7561927437782288),\n",
       " ('ways', 0.7561904191970825)]"
      ]
     },
     "execution_count": 17,
     "metadata": {},
     "output_type": "execute_result"
    }
   ],
   "source": [
    "wv.most_similar([data[\"embeddings_feature\"][1]])"
   ]
  },
  {
   "cell_type": "code",
   "execution_count": null,
   "metadata": {},
   "outputs": [],
   "source": []
  }
 ],
 "metadata": {
  "interpreter": {
   "hash": "a81d1311ff73d38fa65e2a1238b438ef341fe3651da33e4d18f60f780d07fcf1"
  },
  "kernelspec": {
   "display_name": "Python 3.7.4 64-bit ('base': conda)",
   "language": "python",
   "name": "python3"
  },
  "language_info": {
   "codemirror_mode": {
    "name": "ipython",
    "version": 3
   },
   "file_extension": ".py",
   "mimetype": "text/x-python",
   "name": "python",
   "nbconvert_exporter": "python",
   "pygments_lexer": "ipython3",
   "version": "3.7.4"
  },
  "orig_nbformat": 4
 },
 "nbformat": 4,
 "nbformat_minor": 2
}
